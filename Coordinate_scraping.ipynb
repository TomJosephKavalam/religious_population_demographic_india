{
 "cells": [
  {
   "cell_type": "code",
   "execution_count": 26,
   "id": "ef93edc8",
   "metadata": {},
   "outputs": [],
   "source": [
    "import requests\n",
    "import urllib.parse\n",
    "import numpy as np"
   ]
  },
  {
   "cell_type": "code",
   "execution_count": 36,
   "id": "5b69399f",
   "metadata": {},
   "outputs": [],
   "source": [
    "def get_district_coord(district):\n",
    "    url = 'https://nominatim.openstreetmap.org/search/' + urllib.parse.quote(district) +'?format=json'\n",
    "    response = requests.get(url).json()\n",
    "    if len(response)==0:\n",
    "        return [np.nan, np.nan]\n",
    "    return [float(response[0][\"lat\"]),float(response[0][\"lon\"])]"
   ]
  },
  {
   "cell_type": "code",
   "execution_count": 37,
   "id": "68ee2de1",
   "metadata": {},
   "outputs": [
    {
     "data": {
      "text/plain": [
       "[10.9301522, 78.08485454572889]"
      ]
     },
     "execution_count": 37,
     "metadata": {},
     "output_type": "execute_result"
    }
   ],
   "source": [
    "get_district_coord('Karur')\n",
    "# url = 'https://nominatim.openstreetmap.org/search/' + urllib.parse.quote('Karur') +'?format=json'\n",
    "# response = requests.get(url).json()\n",
    "# response\n",
    "# float(response[0][\"lat\"]),float(response[0][\"lon\"])"
   ]
  },
  {
   "cell_type": "code",
   "execution_count": null,
   "id": "d877e7d4",
   "metadata": {},
   "outputs": [],
   "source": []
  }
 ],
 "metadata": {
  "kernelspec": {
   "display_name": "Python 3 (ipykernel)",
   "language": "python",
   "name": "python3"
  },
  "language_info": {
   "codemirror_mode": {
    "name": "ipython",
    "version": 3
   },
   "file_extension": ".py",
   "mimetype": "text/x-python",
   "name": "python",
   "nbconvert_exporter": "python",
   "pygments_lexer": "ipython3",
   "version": "3.9.7"
  }
 },
 "nbformat": 4,
 "nbformat_minor": 5
}
